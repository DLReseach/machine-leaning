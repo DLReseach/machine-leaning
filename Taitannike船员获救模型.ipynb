{
 "cells": [
  {
   "cell_type": "markdown",
   "metadata": {},
   "source": [
    "# 数据观察及预处理"
   ]
  },
  {
   "cell_type": "code",
   "execution_count": 1,
   "metadata": {},
   "outputs": [],
   "source": [
    "import pandas as pd\n",
    "import numpy as np\n",
    "import matplotlib.pyplot as plt\n",
    "taitannike_data=pd.read_csv(r'/Users/jacquelin/Documents/python/MachineLearning-imooc-master/机器学习项目实战/泰坦尼克船员获救/titanic_train.csv')"
   ]
  },
  {
   "cell_type": "code",
   "execution_count": 44,
   "metadata": {},
   "outputs": [],
   "source": [
    "data=taitannike_data.copy()\n",
    "data.head()\n",
    "#data.describe()\n",
    "import warnings\n",
    "warnings.filterwarnings('ignore')"
   ]
  },
  {
   "cell_type": "code",
   "execution_count": 45,
   "metadata": {},
   "outputs": [
    {
     "data": {
      "text/html": [
       "<div>\n",
       "<style scoped>\n",
       "    .dataframe tbody tr th:only-of-type {\n",
       "        vertical-align: middle;\n",
       "    }\n",
       "\n",
       "    .dataframe tbody tr th {\n",
       "        vertical-align: top;\n",
       "    }\n",
       "\n",
       "    .dataframe thead th {\n",
       "        text-align: right;\n",
       "    }\n",
       "</style>\n",
       "<table border=\"1\" class=\"dataframe\">\n",
       "  <thead>\n",
       "    <tr style=\"text-align: right;\">\n",
       "      <th></th>\n",
       "      <th>PassengerId</th>\n",
       "      <th>Survived</th>\n",
       "      <th>Pclass</th>\n",
       "      <th>Sex</th>\n",
       "      <th>Age</th>\n",
       "      <th>SibSp</th>\n",
       "      <th>Parch</th>\n",
       "      <th>Fare</th>\n",
       "      <th>Embarked</th>\n",
       "    </tr>\n",
       "  </thead>\n",
       "  <tbody>\n",
       "    <tr>\n",
       "      <th>count</th>\n",
       "      <td>891.000000</td>\n",
       "      <td>891.000000</td>\n",
       "      <td>891.000000</td>\n",
       "      <td>891.000000</td>\n",
       "      <td>891.000000</td>\n",
       "      <td>891.000000</td>\n",
       "      <td>891.000000</td>\n",
       "      <td>891.000000</td>\n",
       "      <td>891.000000</td>\n",
       "    </tr>\n",
       "    <tr>\n",
       "      <th>mean</th>\n",
       "      <td>446.000000</td>\n",
       "      <td>0.383838</td>\n",
       "      <td>2.308642</td>\n",
       "      <td>0.352413</td>\n",
       "      <td>29.361582</td>\n",
       "      <td>0.523008</td>\n",
       "      <td>0.381594</td>\n",
       "      <td>32.204208</td>\n",
       "      <td>0.361392</td>\n",
       "    </tr>\n",
       "    <tr>\n",
       "      <th>std</th>\n",
       "      <td>257.353842</td>\n",
       "      <td>0.486592</td>\n",
       "      <td>0.836071</td>\n",
       "      <td>0.477990</td>\n",
       "      <td>13.019697</td>\n",
       "      <td>1.102743</td>\n",
       "      <td>0.806057</td>\n",
       "      <td>49.693429</td>\n",
       "      <td>0.635673</td>\n",
       "    </tr>\n",
       "    <tr>\n",
       "      <th>min</th>\n",
       "      <td>1.000000</td>\n",
       "      <td>0.000000</td>\n",
       "      <td>1.000000</td>\n",
       "      <td>0.000000</td>\n",
       "      <td>0.420000</td>\n",
       "      <td>0.000000</td>\n",
       "      <td>0.000000</td>\n",
       "      <td>0.000000</td>\n",
       "      <td>0.000000</td>\n",
       "    </tr>\n",
       "    <tr>\n",
       "      <th>25%</th>\n",
       "      <td>223.500000</td>\n",
       "      <td>0.000000</td>\n",
       "      <td>2.000000</td>\n",
       "      <td>0.000000</td>\n",
       "      <td>22.000000</td>\n",
       "      <td>0.000000</td>\n",
       "      <td>0.000000</td>\n",
       "      <td>7.910400</td>\n",
       "      <td>0.000000</td>\n",
       "    </tr>\n",
       "    <tr>\n",
       "      <th>50%</th>\n",
       "      <td>446.000000</td>\n",
       "      <td>0.000000</td>\n",
       "      <td>3.000000</td>\n",
       "      <td>0.000000</td>\n",
       "      <td>28.000000</td>\n",
       "      <td>0.000000</td>\n",
       "      <td>0.000000</td>\n",
       "      <td>14.454200</td>\n",
       "      <td>0.000000</td>\n",
       "    </tr>\n",
       "    <tr>\n",
       "      <th>75%</th>\n",
       "      <td>668.500000</td>\n",
       "      <td>1.000000</td>\n",
       "      <td>3.000000</td>\n",
       "      <td>1.000000</td>\n",
       "      <td>35.000000</td>\n",
       "      <td>1.000000</td>\n",
       "      <td>0.000000</td>\n",
       "      <td>31.000000</td>\n",
       "      <td>1.000000</td>\n",
       "    </tr>\n",
       "    <tr>\n",
       "      <th>max</th>\n",
       "      <td>891.000000</td>\n",
       "      <td>1.000000</td>\n",
       "      <td>3.000000</td>\n",
       "      <td>1.000000</td>\n",
       "      <td>80.000000</td>\n",
       "      <td>8.000000</td>\n",
       "      <td>6.000000</td>\n",
       "      <td>512.329200</td>\n",
       "      <td>2.000000</td>\n",
       "    </tr>\n",
       "  </tbody>\n",
       "</table>\n",
       "</div>"
      ],
      "text/plain": [
       "       PassengerId    Survived      Pclass         Sex         Age  \\\n",
       "count   891.000000  891.000000  891.000000  891.000000  891.000000   \n",
       "mean    446.000000    0.383838    2.308642    0.352413   29.361582   \n",
       "std     257.353842    0.486592    0.836071    0.477990   13.019697   \n",
       "min       1.000000    0.000000    1.000000    0.000000    0.420000   \n",
       "25%     223.500000    0.000000    2.000000    0.000000   22.000000   \n",
       "50%     446.000000    0.000000    3.000000    0.000000   28.000000   \n",
       "75%     668.500000    1.000000    3.000000    1.000000   35.000000   \n",
       "max     891.000000    1.000000    3.000000    1.000000   80.000000   \n",
       "\n",
       "            SibSp       Parch        Fare    Embarked  \n",
       "count  891.000000  891.000000  891.000000  891.000000  \n",
       "mean     0.523008    0.381594   32.204208    0.361392  \n",
       "std      1.102743    0.806057   49.693429    0.635673  \n",
       "min      0.000000    0.000000    0.000000    0.000000  \n",
       "25%      0.000000    0.000000    7.910400    0.000000  \n",
       "50%      0.000000    0.000000   14.454200    0.000000  \n",
       "75%      1.000000    0.000000   31.000000    1.000000  \n",
       "max      8.000000    6.000000  512.329200    2.000000  "
      ]
     },
     "execution_count": 45,
     "metadata": {},
     "output_type": "execute_result"
    }
   ],
   "source": [
    "#年龄缺失值处理\n",
    "data['Age']=data['Age'].fillna(data['Age'].median())\n",
    "#性别字段转化为计算字段\n",
    "data['Sex'].unique()    #测试是否需要为其他性别取值\n",
    "data['Sex']=data['Sex'].replace('male',0)\n",
    "data['Sex']=data['Sex'].replace('female',1)\n",
    "#登船地点\n",
    "data['Embarked'].unique()\n",
    "data['Embarked']=data['Embarked'].fillna('S')\n",
    "data['Embarked']=data['Embarked'].replace('S',0)\n",
    "data['Embarked']=data['Embarked'].replace('C',1)\n",
    "data['Embarked']=data['Embarked'].replace('Q',2)\n",
    "data.describe()"
   ]
  },
  {
   "cell_type": "markdown",
   "metadata": {},
   "source": [
    "# 训练模型"
   ]
  },
  {
   "cell_type": "code",
   "execution_count": 101,
   "metadata": {},
   "outputs": [
    {
     "data": {
      "text/plain": [
       "0.7833894500561167"
      ]
     },
     "execution_count": 101,
     "metadata": {},
     "output_type": "execute_result"
    }
   ],
   "source": [
    "from sklearn.linear_model import LinearRegression\n",
    "from sklearn.model_selection import KFold\n",
    "\n",
    "features = [\"Pclass\", \"Sex\", \"Age\", \"SibSp\", \"Parch\", \"Fare\", \"Embarked\"]\n",
    "\n",
    "X=data[features]\n",
    "y=data['Survived']\n",
    "\n",
    "kf=KFold(n_splits=3, shuffle=False,random_state=666)\n",
    "\n",
    "\n",
    "predictions=[]\n",
    "for train,test in kf.split(data):\n",
    "    lin_reg=LinearRegression()\n",
    "    X_train=(data[features].iloc[train,:])\n",
    "    y_train=data['Survived'].iloc[train]\n",
    "    lin_reg.fit(X_train,y_train)\n",
    "    prediction=lin_reg.predict(data[features].iloc[test,:])\n",
    "    predictions.append(prediction)\n",
    "#predictions是三个验证集的预测值，需要合并\n",
    "predictions=np.concatenate(predictions,axis=0)\n",
    "#predictions是一些概率值，需要对其分类\n",
    "predictions[predictions>.5]=1\n",
    "predictions[predictions<=.5]=0\n",
    "#看精确度\n",
    "accuracy=sum(predictions==data['Survived'])/len(predictions)\n",
    "accuracy"
   ]
  },
  {
   "cell_type": "code",
   "execution_count": 47,
   "metadata": {},
   "outputs": [
    {
     "data": {
      "text/plain": [
       "0.7878787878787877"
      ]
     },
     "execution_count": 47,
     "metadata": {},
     "output_type": "execute_result"
    }
   ],
   "source": [
    "from sklearn.model_selection import cross_val_score\n",
    "from sklearn.linear_model import LogisticRegression\n",
    "log_reg=LogisticRegression(random_state=666)\n",
    "scores=cross_val_score(log_reg,data[features],data['Survived'],cv=3)\n",
    "scores.mean()"
   ]
  },
  {
   "cell_type": "code",
   "execution_count": null,
   "metadata": {},
   "outputs": [],
   "source": []
  },
  {
   "cell_type": "code",
   "execution_count": null,
   "metadata": {},
   "outputs": [],
   "source": []
  },
  {
   "cell_type": "markdown",
   "metadata": {},
   "source": [
    "### 随机森林改进模型"
   ]
  },
  {
   "cell_type": "code",
   "execution_count": 58,
   "metadata": {},
   "outputs": [
    {
     "data": {
      "text/plain": [
       "0.7946127946127947"
      ]
     },
     "execution_count": 58,
     "metadata": {},
     "output_type": "execute_result"
    }
   ],
   "source": [
    "from sklearn.ensemble import RandomForestClassifier\n",
    "features = [\"Pclass\", \"Sex\", \"Age\", \"SibSp\", \"Parch\", \"Fare\", \"Embarked\"]\n",
    "\n",
    "rf_clf=RandomForestClassifier(random_state=666,n_estimators=100,  #有多少棵树\n",
    "                             min_samples_split=2,min_samples_leaf=1)   #限制有多高\n",
    "\n",
    "scores=cross_val_score(rf_clf,data[features],data['Survived'],cv=kf)\n",
    "scores.mean()\n",
    "#好一点点，，，哭泣\n"
   ]
  },
  {
   "cell_type": "code",
   "execution_count": 61,
   "metadata": {},
   "outputs": [
    {
     "data": {
      "text/plain": [
       "0.8170594837261503"
      ]
     },
     "execution_count": 61,
     "metadata": {},
     "output_type": "execute_result"
    }
   ],
   "source": [
    "#调参\n",
    "rf_clf2=RandomForestClassifier(random_state=666,n_estimators=500,  #有多少棵树\n",
    "                             min_samples_split=4,min_samples_leaf=3)   #限制有多高\n",
    "\n",
    "scores1=cross_val_score(rf_clf2,data[features],data['Survived'],cv=kf)\n",
    "scores1.mean()"
   ]
  },
  {
   "cell_type": "code",
   "execution_count": null,
   "metadata": {},
   "outputs": [],
   "source": [
    "'''random_state\n",
    "        作为每次产生随机数的种子\n",
    "        作为随机种子对于调参过程是很重要的，如果每次都用不同的随机种子。即使参数值没变，每次出来的结果也会不同，不利于比较不同模型的结果\n",
    "        任一个随机样本都有可能导致过度你和，可以用不同的随机样本建模来减少过拟合到的可能\n",
    "n_estimators\n",
    "        定义了需要用到的决策树的数量\n",
    "\n",
    "min_samples_split\n",
    "        定义了书中一个节点所需要用来分裂的最少样本数\n",
    "        可以避免过拟合，如果用于分类的样本数太小，模型可能只试用于用来训练样本的分类，而用较多的样本数则可以避免这个问题\n",
    "        如果设定的值过大，就可能出现欠拟合现象，所以可以用cv值(离散数量)考量调节效果\n",
    "min_samples_leaf\n",
    "        定义了树中终点节点所需要用来分裂的最少样本数\n",
    "        同样，可以防止过度拟合\n",
    "        不均等分类问题中，一般这个参数需要设定为较小的值。因为大部分少数类别含有的样本都比较小\n",
    "min_weight_fraction_leaf\n",
    "        和上面的min_simples_leaf 很像，，不同的是这个参数需要被设定为较小的值，因为大部分少数类别含有的样本都比较小\n",
    "        #2和#3只需要定义一个就行了\n",
    "max_depth\n",
    "        定义和树的最大深度\n",
    "        也可以控制过拟合，树越深，越容易过拟合\n",
    "        也可以用CV值检验\n",
    "max_leaf_nodes\n",
    "        定义了决策树里最多能有多少个终点节点\n",
    "        这个属性可能在上面的max_depth里就被定义了，深度为n的二叉树就有最多2的n次方的终点节点\n",
    "        如果定义max_leaf_nodes GBM就会忽略前面的  max_depth\n",
    "max_features\n",
    "        决定了用于分类的特征树，是认为随机定义的\n",
    "        根据经验一般选择总特征数的平方根就可以工作的很好，最多可以尝试总特征数的30%-40%'''\n"
   ]
  },
  {
   "cell_type": "markdown",
   "metadata": {},
   "source": [
    "### 调参效果不明显，处理原数据"
   ]
  },
  {
   "cell_type": "code",
   "execution_count": 73,
   "metadata": {},
   "outputs": [],
   "source": [
    "#家庭背景\n",
    "import re\n",
    "data['Familysize']=data['SibSp']+data['Parch']   #家庭背景，家里有多少人\n",
    "data['Namelength']=data['Name'].apply(lambda x: len(x))     #姓名长度\n",
    "\n",
    "def get_title(name):\n",
    "    title_search=re.search(' ([A-Za-z]+)\\.',name)\n",
    "    if title_search:\n",
    "        return title_search.group(1)\n",
    "    return ''\n",
    "titles=data['Name'].apply(get_title)\n",
    "pd.value_counts(titles)   #查看提取的社会称呼\n",
    "title_map={\"Mr\": 1, \"Miss\": 2, \"Mrs\": 3, \"Master\": 4, \"Dr\": 5, \"Rev\": 6, \"Major\": 7, \"Col\": 7, \"Mlle\": 8, \"Mme\": 8, \"Don\": 9, \"Lady\": 10, \"Countess\": 10, \"Jonkheer\": 10, \"Sir\": 9, \"Capt\": 7, \"Ms\": 2}\n",
    "for i,j in title_map.items():\n",
    "    titles[titles==i]=j\n",
    "pd.value_counts(titles)    #再次提取修改后的社会称呼\n",
    "data['Title']=titles"
   ]
  },
  {
   "cell_type": "code",
   "execution_count": 85,
   "metadata": {},
   "outputs": [
    {
     "data": {
      "image/png": "[encoded data removed]",
      "text/plain": [
       "<Figure size 432x288 with 1 Axes>"
      ]
     },
     "metadata": {},
     "output_type": "display_data"
    }
   ],
   "source": [
    "#对特征生成后的结果，考察特征重要性，适当舍弃特征，减少噪音\n",
    "#原理：将一个特征的值换成噪音后考察scores，无变化则说明此特征重要性低\n",
    "from sklearn.feature_selection import SelectKBest,f_classif\n",
    "features = [\"Pclass\", \"Sex\", \"Age\", \"SibSp\", \"Parch\", \"Fare\", \"Embarked\", \"Familysize\", \"Title\", \"Namelength\"]\n",
    "selector=SelectKBest(f_classif,k=5)\n",
    "selector.fit(data[features],data['Survived'])\n",
    "scores=-np.log10(selector.pvalues_)\n",
    "plt.bar(range(len(features)),scores)\n",
    "plt.xticks(range(len(features)),features,rotation='vertical')\n",
    "plt.show()"
   ]
  },
  {
   "cell_type": "code",
   "execution_count": 90,
   "metadata": {},
   "outputs": [
    {
     "data": {
      "text/plain": [
       "0.8305274971941637"
      ]
     },
     "execution_count": 90,
     "metadata": {},
     "output_type": "execute_result"
    }
   ],
   "source": [
    "features_re = [\"Pclass\", \"Sex\", \"Fare\", \"Title\",\"Namelength\",'Familysize','Age','Embarked']\n",
    "#rf_clf2.fit(data[features_re],data['Survived'])\n",
    "#rf_clf2.score()\n",
    "scores1=cross_val_score(rf_clf2,data[features_re],data['Survived'],cv=kf)\n",
    "scores1.mean()"
   ]
  },
  {
   "cell_type": "markdown",
   "metadata": {},
   "source": [
    "### 使用梯度提升决策树与逻辑回归集成"
   ]
  },
  {
   "cell_type": "code",
   "execution_count": 103,
   "metadata": {},
   "outputs": [
    {
     "data": {
      "text/plain": [
       "0.8226711560044894"
      ]
     },
     "execution_count": 103,
     "metadata": {},
     "output_type": "execute_result"
    }
   ],
   "source": [
    "\n",
    "\n",
    "from sklearn.ensemble import GradientBoostingClassifier\n",
    "\n",
    "algorithms=[\n",
    "    [GradientBoostingClassifier(random_state=666,n_estimators=500,max_depth=3),features_re],\n",
    "    [LogisticRegression(random_state=666),features_re]\n",
    "]\n",
    "\n",
    "kf=KFold(n_splits=3, shuffle=False,random_state=666)\n",
    "\n",
    "\n",
    "predictions=[]\n",
    "for train,test in kf.split(data):\n",
    "    y_train=data['Survived'].iloc[train]\n",
    "    full_test_pridicts=[]\n",
    "    for alg,features in algorithms:\n",
    "        alg.fit(data[features].iloc[train,:],y_train)\n",
    "        test_prediction=alg.predict_proba(data[features].iloc[test,:].astype(float))[:,1]\n",
    "        full_test_pridicts.append(test_prediction)\n",
    "    mean_predict=(full_test_pridicts[0]+full_test_pridicts[1])/2\n",
    "    mean_predict[mean_predict>.5]=1\n",
    "    mean_predict[mean_predict<=.5]=0\n",
    "    predictions.append(mean_predict)\n",
    "    \n",
    "#predictions是三个验证集的预测值，需要合并\n",
    "predictions=np.concatenate(predictions,axis=0)\n",
    "\n",
    "#看精确度\n",
    "accuracy=sum(predictions==data['Survived'])/len(predictions)\n",
    "accuracy\n",
    "\n"
   ]
  },
  {
   "cell_type": "markdown",
   "metadata": {},
   "source": [
    "### 预测数据"
   ]
  },
  {
   "cell_type": "code",
   "execution_count": 111,
   "metadata": {},
   "outputs": [
    {
     "name": "stdout",
     "output_type": "stream",
     "text": [
      "1     240\n",
      "2      79\n",
      "3      72\n",
      "4      21\n",
      "7       2\n",
      "6       2\n",
      "10      1\n",
      "5       1\n",
      "Name: Title, dtype: int64\n"
     ]
    }
   ],
   "source": [
    "data_test=pd.read_csv(r'/Users/jacquelin/Documents/python/MachineLearning-imooc-master/机器学习项目实战/泰坦尼克船员获救/test.csv')\n",
    "#年龄缺失值处理\n",
    "data_test['Age']=data_test['Age'].fillna(data_test['Age'].median())\n",
    "#性别字段转化为计算字段\n",
    "data_test['Sex'].unique()    #测试是否需要为其他性别取值\n",
    "data_test['Sex']=data_test['Sex'].replace('male',0)\n",
    "data_test['Sex']=data_test['Sex'].replace('female',1)\n",
    "#登船地点\n",
    "data_test['Embarked'].unique()\n",
    "data_test['Embarked']=data_test['Embarked'].fillna('S')\n",
    "data_test['Embarked']=data_test['Embarked'].replace('S',0)\n",
    "data_test['Embarked']=data_test['Embarked'].replace('C',1)\n",
    "data_test['Embarked']=data_test['Embarked'].replace('Q',2)\n",
    "\n",
    "data_test['Fare']=data_test['Fare'].fillna(data_test['Fare'].median())\n",
    "data_test['Namelength']=data_test['Name'].apply(lambda x: len(x))\n",
    "\n",
    "titles=data_test['Name'].apply(get_title)\n",
    "pd.value_counts(titles)   #查看提取的社会称呼\n",
    "title_map={\"Mr\": 1, \"Miss\": 2, \"Mrs\": 3, \"Master\": 4, \"Dr\": 5, \"Rev\": 6, \"Major\": 7, \"Col\": 7, \"Mlle\": 8, \"Mme\": 8, \"Don\": 9, \"Lady\": 10, \"Countess\": 10, \"Jonkheer\": 10, \"Sir\": 9, \"Capt\": 7, \"Ms\": 2,\"Dona\": 10}\n",
    "for i,j in title_map.items():\n",
    "    titles[titles==i]=j\n",
    "pd.value_counts(titles)    #再次提取修改后的社会称呼\n",
    "data_test['Title']=titles\n",
    "data_test[\"Familysize\"] = data_test[\"SibSp\"] + data_test[\"Parch\"]\n",
    "\n",
    "print(pd.value_counts(data_test[\"Title\"]))\n"
   ]
  },
  {
   "cell_type": "code",
   "execution_count": 113,
   "metadata": {},
   "outputs": [
    {
     "data": {
      "text/plain": [
       "array([0.04627479, 0.11519204, 0.84358935, 0.03736619, 0.04069662,\n",
       "       0.97161622, 0.95751399, 0.03362191, 0.14033745, 0.26531132,\n",
       "       0.699738  , 0.11012631, 0.04836598, 0.64985838, 0.97505964,\n",
       "       0.95471337, 0.64828395, 0.02514425, 0.8655776 , 0.07157067,\n",
       "       0.11390403, 0.84945962, 0.01963337, 0.75608873, 0.9389651 ,\n",
       "       0.14382586, 0.0253306 , 0.57991752, 0.02666995, 0.06730642,\n",
       "       0.07207184, 0.09493079, 0.14008445, 0.97278174, 0.10600405,\n",
       "       0.19539298, 0.03959109, 0.01357474, 0.92299086, 0.12645322,\n",
       "       0.08208274, 0.91373819, 0.22012073, 0.0482174 , 0.09054296,\n",
       "       0.02976566, 0.07180673, 0.99530296, 0.13071874, 0.05090946,\n",
       "       0.81731869, 0.20219279, 0.05059163, 0.93805493, 0.02153135,\n",
       "       0.32734777, 0.03277055, 0.92403935, 0.0491872 , 0.90211661,\n",
       "       0.95057539, 0.06041249, 0.04007335, 0.89008228, 0.16061467,\n",
       "       0.21902243, 0.16991343, 0.02466184, 0.07081706, 0.12255545,\n",
       "       0.06130789, 0.13334223, 0.21764597, 0.04973594, 0.08630986,\n",
       "       0.98538446, 0.9573563 , 0.12061028, 0.01789331, 0.13595066,\n",
       "       0.06388275, 0.15517112, 0.09051315, 0.21900741, 0.05599176,\n",
       "       0.29973266, 0.30918319, 0.21702616, 0.04489515, 0.00853608,\n",
       "       0.32023655, 0.25713245, 0.01355416, 0.06579121, 0.10611422,\n",
       "       0.97758122, 0.2075863 , 0.78837021, 0.05682806, 0.68885861,\n",
       "       0.21323914, 0.03258259, 0.28154185, 0.92437648, 0.73908354,\n",
       "       0.04517925, 0.98941757, 0.81492065, 0.17516273, 0.096412  ,\n",
       "       0.04889578, 0.74693588, 0.82094762, 0.58199711, 0.4881676 ,\n",
       "       0.84340053, 0.99839186, 0.37273546, 0.08779871, 0.04581479,\n",
       "       0.1726297 , 0.30303876, 0.97420601, 0.88469192, 0.07903524,\n",
       "       0.03316046, 0.96856465, 0.04876468, 0.45778925, 0.04848535,\n",
       "       0.34842351, 0.02888132, 0.91444619, 0.91477701, 0.16751956,\n",
       "       0.73131179, 0.97345133, 0.1894809 , 0.04973137, 0.10858835,\n",
       "       0.16061467, 0.03619923, 0.09764451, 0.11691567, 0.03023266,\n",
       "       0.03023266, 0.36850955, 0.64952496, 0.96736467, 0.02330181,\n",
       "       0.09671867, 0.67318637, 0.04998897, 0.89058998, 0.16138714,\n",
       "       0.09031932, 0.93893338, 0.80662533, 0.69196319, 0.02893133,\n",
       "       0.84423124, 0.87729308, 0.06031957, 0.23232344, 0.31523142,\n",
       "       0.98291044, 0.02561252, 0.02291795, 0.04781097, 0.96623024,\n",
       "       0.70827387, 0.93799112, 0.90008763, 0.23387181, 0.07387205,\n",
       "       0.10918577, 0.04373708, 0.16788763, 0.87981759, 0.43894859,\n",
       "       0.64766129, 0.08536011, 0.07157067, 0.90941167, 0.07826608,\n",
       "       0.98349907, 0.76210079, 0.97774349, 0.24692285, 0.27357689,\n",
       "       0.4942329 , 0.67767709, 0.53508448, 0.10371152, 0.76167924,\n",
       "       0.14850152, 0.19539316, 0.08525586, 0.03559495, 0.52808021,\n",
       "       0.05548265, 0.51830048, 0.27115952, 0.39747026, 0.10706163,\n",
       "       0.91751939, 0.29649181, 0.94287297, 0.89495167, 0.82900971,\n",
       "       0.02862713, 0.02993418, 0.08835361, 0.80510991, 0.27194993,\n",
       "       0.98289294, 0.14619923, 0.08427914, 0.12589946, 0.15989855,\n",
       "       0.09196792, 0.30796058, 0.75710887, 0.08639025, 0.02360534,\n",
       "       0.03921332, 0.96749275, 0.02426178, 0.22399746, 0.37993554,\n",
       "       0.0655811 , 0.03789286, 0.05682806, 0.88139495, 0.20933041,\n",
       "       0.96306858, 0.41366982, 0.89160565, 0.69762901, 0.08460461,\n",
       "       0.12361062, 0.92668915, 0.02559922, 0.0351673 , 0.63242711,\n",
       "       0.15814783, 0.09362238, 0.50890623, 0.97052015, 0.04202763,\n",
       "       0.04080573, 0.03131517, 0.00386367, 0.04495204, 0.84406419,\n",
       "       0.98877911, 0.0681791 , 0.02884546, 0.58633686, 0.94140828,\n",
       "       0.93478363, 0.20414189, 0.96231741, 0.1343391 , 0.85978262,\n",
       "       0.62014086, 0.01083742, 0.08520584, 0.97540073, 0.0625528 ,\n",
       "       0.12436714, 0.91964612, 0.94769975, 0.14654874, 0.04657561,\n",
       "       0.82944321, 0.04571528, 0.9688312 , 0.0950138 , 0.01772658,\n",
       "       0.95703347, 0.94768281, 0.05079265, 0.05588256, 0.03023266,\n",
       "       0.97168166, 0.93889544, 0.06231214, 0.58112674, 0.17795016,\n",
       "       0.15624167, 0.24887437, 0.13876142, 0.9754346 , 0.80350627,\n",
       "       0.45657099, 0.08039007])"
      ]
     },
     "execution_count": 113,
     "metadata": {},
     "output_type": "execute_result"
    }
   ],
   "source": [
    "#预测\n",
    "features_re = [\"Pclass\", \"Sex\", \"Fare\", \"Title\",\"Namelength\",'Familysize','Age','Embarked']\n",
    "full_predicts=[]\n",
    "for alg,features in algorithms:\n",
    "    alg.fit(data[features_re],data['Survived'])\n",
    "    predicts=alg.predict_proba(data_test[features_re].astype('float'))[:,1]\n",
    "    full_predicts.append(predicts)\n",
    "predicts=(full_test_pridicts[0]*3+full_test_pridicts[1])/4\n",
    "predicts"
   ]
  },
  {
   "cell_type": "code",
   "execution_count": null,
   "metadata": {},
   "outputs": [],
   "source": []
  },
  {
   "cell_type": "code",
   "execution_count": null,
   "metadata": {},
   "outputs": [],
   "source": []
  },
  {
   "cell_type": "code",
   "execution_count": null,
   "metadata": {},
   "outputs": [],
   "source": []
  },
  {
   "cell_type": "code",
   "execution_count": null,
   "metadata": {},
   "outputs": [],
   "source": []
  },
  {
   "cell_type": "code",
   "execution_count": null,
   "metadata": {},
   "outputs": [],
   "source": []
  },
  {
   "cell_type": "code",
   "execution_count": null,
   "metadata": {},
   "outputs": [],
   "source": []
  },
  {
   "cell_type": "code",
   "execution_count": null,
   "metadata": {},
   "outputs": [],
   "source": []
  },
  {
   "cell_type": "code",
   "execution_count": null,
   "metadata": {},
   "outputs": [],
   "source": []
  },
  {
   "cell_type": "code",
   "execution_count": null,
   "metadata": {},
   "outputs": [],
   "source": []
  },
  {
   "cell_type": "code",
   "execution_count": null,
   "metadata": {},
   "outputs": [],
   "source": []
  }
 ],
 "metadata": {
  "kernelspec": {
   "display_name": "Python 3",
   "language": "python",
   "name": "python3"
  },
  "language_info": {
   "codemirror_mode": {
    "name": "ipython",
    "version": 3
   },
   "file_extension": ".py",
   "mimetype": "text/x-python",
   "name": "python",
   "nbconvert_exporter": "python",
   "pygments_lexer": "ipython3",
   "version": "3.6.5"
  }
 },
 "nbformat": 4,
 "nbformat_minor": 2
}
