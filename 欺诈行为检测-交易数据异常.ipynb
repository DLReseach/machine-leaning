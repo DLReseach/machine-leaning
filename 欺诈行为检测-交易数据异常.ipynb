{
 "cells": [
  {
   "cell_type": "code",
   "execution_count": 1,
   "metadata": {},
   "outputs": [],
   "source": [
    "import pandas as pd\n",
    "import matplotlib.pyplot as plt\n",
    "import numpy as np\n",
    "\n",
    "%matplotlib inline\n"
   ]
  },
  {
   "cell_type": "code",
   "execution_count": 2,
   "metadata": {},
   "outputs": [
    {
     "data": {
      "text/html": [
       "<div>\n",
       "<style scoped>\n",
       "    .dataframe tbody tr th:only-of-type {\n",
       "        vertical-align: middle;\n",
       "    }\n",
       "\n",
       "    .dataframe tbody tr th {\n",
       "        vertical-align: top;\n",
       "    }\n",
       "\n",
       "    .dataframe thead th {\n",
       "        text-align: right;\n",
       "    }\n",
       "</style>\n",
       "<table border=\"1\" class=\"dataframe\">\n",
       "  <thead>\n",
       "    <tr style=\"text-align: right;\">\n",
       "      <th></th>\n",
       "      <th>Time</th>\n",
       "      <th>V1</th>\n",
       "      <th>V2</th>\n",
       "      <th>V3</th>\n",
       "      <th>V4</th>\n",
       "      <th>V5</th>\n",
       "      <th>V6</th>\n",
       "      <th>V7</th>\n",
       "      <th>V8</th>\n",
       "      <th>V9</th>\n",
       "      <th>...</th>\n",
       "      <th>V21</th>\n",
       "      <th>V22</th>\n",
       "      <th>V23</th>\n",
       "      <th>V24</th>\n",
       "      <th>V25</th>\n",
       "      <th>V26</th>\n",
       "      <th>V27</th>\n",
       "      <th>V28</th>\n",
       "      <th>Amount</th>\n",
       "      <th>Class</th>\n",
       "    </tr>\n",
       "  </thead>\n",
       "  <tbody>\n",
       "    <tr>\n",
       "      <th>0</th>\n",
       "      <td>0.0</td>\n",
       "      <td>-1.359807</td>\n",
       "      <td>-0.072781</td>\n",
       "      <td>2.536347</td>\n",
       "      <td>1.378155</td>\n",
       "      <td>-0.338321</td>\n",
       "      <td>0.462388</td>\n",
       "      <td>0.239599</td>\n",
       "      <td>0.098698</td>\n",
       "      <td>0.363787</td>\n",
       "      <td>...</td>\n",
       "      <td>-0.018307</td>\n",
       "      <td>0.277838</td>\n",
       "      <td>-0.110474</td>\n",
       "      <td>0.066928</td>\n",
       "      <td>0.128539</td>\n",
       "      <td>-0.189115</td>\n",
       "      <td>0.133558</td>\n",
       "      <td>-0.021053</td>\n",
       "      <td>149.62</td>\n",
       "      <td>0</td>\n",
       "    </tr>\n",
       "    <tr>\n",
       "      <th>1</th>\n",
       "      <td>0.0</td>\n",
       "      <td>1.191857</td>\n",
       "      <td>0.266151</td>\n",
       "      <td>0.166480</td>\n",
       "      <td>0.448154</td>\n",
       "      <td>0.060018</td>\n",
       "      <td>-0.082361</td>\n",
       "      <td>-0.078803</td>\n",
       "      <td>0.085102</td>\n",
       "      <td>-0.255425</td>\n",
       "      <td>...</td>\n",
       "      <td>-0.225775</td>\n",
       "      <td>-0.638672</td>\n",
       "      <td>0.101288</td>\n",
       "      <td>-0.339846</td>\n",
       "      <td>0.167170</td>\n",
       "      <td>0.125895</td>\n",
       "      <td>-0.008983</td>\n",
       "      <td>0.014724</td>\n",
       "      <td>2.69</td>\n",
       "      <td>0</td>\n",
       "    </tr>\n",
       "    <tr>\n",
       "      <th>2</th>\n",
       "      <td>1.0</td>\n",
       "      <td>-1.358354</td>\n",
       "      <td>-1.340163</td>\n",
       "      <td>1.773209</td>\n",
       "      <td>0.379780</td>\n",
       "      <td>-0.503198</td>\n",
       "      <td>1.800499</td>\n",
       "      <td>0.791461</td>\n",
       "      <td>0.247676</td>\n",
       "      <td>-1.514654</td>\n",
       "      <td>...</td>\n",
       "      <td>0.247998</td>\n",
       "      <td>0.771679</td>\n",
       "      <td>0.909412</td>\n",
       "      <td>-0.689281</td>\n",
       "      <td>-0.327642</td>\n",
       "      <td>-0.139097</td>\n",
       "      <td>-0.055353</td>\n",
       "      <td>-0.059752</td>\n",
       "      <td>378.66</td>\n",
       "      <td>0</td>\n",
       "    </tr>\n",
       "    <tr>\n",
       "      <th>3</th>\n",
       "      <td>1.0</td>\n",
       "      <td>-0.966272</td>\n",
       "      <td>-0.185226</td>\n",
       "      <td>1.792993</td>\n",
       "      <td>-0.863291</td>\n",
       "      <td>-0.010309</td>\n",
       "      <td>1.247203</td>\n",
       "      <td>0.237609</td>\n",
       "      <td>0.377436</td>\n",
       "      <td>-1.387024</td>\n",
       "      <td>...</td>\n",
       "      <td>-0.108300</td>\n",
       "      <td>0.005274</td>\n",
       "      <td>-0.190321</td>\n",
       "      <td>-1.175575</td>\n",
       "      <td>0.647376</td>\n",
       "      <td>-0.221929</td>\n",
       "      <td>0.062723</td>\n",
       "      <td>0.061458</td>\n",
       "      <td>123.50</td>\n",
       "      <td>0</td>\n",
       "    </tr>\n",
       "    <tr>\n",
       "      <th>4</th>\n",
       "      <td>2.0</td>\n",
       "      <td>-1.158233</td>\n",
       "      <td>0.877737</td>\n",
       "      <td>1.548718</td>\n",
       "      <td>0.403034</td>\n",
       "      <td>-0.407193</td>\n",
       "      <td>0.095921</td>\n",
       "      <td>0.592941</td>\n",
       "      <td>-0.270533</td>\n",
       "      <td>0.817739</td>\n",
       "      <td>...</td>\n",
       "      <td>-0.009431</td>\n",
       "      <td>0.798278</td>\n",
       "      <td>-0.137458</td>\n",
       "      <td>0.141267</td>\n",
       "      <td>-0.206010</td>\n",
       "      <td>0.502292</td>\n",
       "      <td>0.219422</td>\n",
       "      <td>0.215153</td>\n",
       "      <td>69.99</td>\n",
       "      <td>0</td>\n",
       "    </tr>\n",
       "  </tbody>\n",
       "</table>\n",
       "<p>5 rows × 31 columns</p>\n",
       "</div>"
      ],
      "text/plain": [
       "   Time        V1        V2        V3        V4        V5        V6        V7  \\\n",
       "0   0.0 -1.359807 -0.072781  2.536347  1.378155 -0.338321  0.462388  0.239599   \n",
       "1   0.0  1.191857  0.266151  0.166480  0.448154  0.060018 -0.082361 -0.078803   \n",
       "2   1.0 -1.358354 -1.340163  1.773209  0.379780 -0.503198  1.800499  0.791461   \n",
       "3   1.0 -0.966272 -0.185226  1.792993 -0.863291 -0.010309  1.247203  0.237609   \n",
       "4   2.0 -1.158233  0.877737  1.548718  0.403034 -0.407193  0.095921  0.592941   \n",
       "\n",
       "         V8        V9  ...         V21       V22       V23       V24  \\\n",
       "0  0.098698  0.363787  ...   -0.018307  0.277838 -0.110474  0.066928   \n",
       "1  0.085102 -0.255425  ...   -0.225775 -0.638672  0.101288 -0.339846   \n",
       "2  0.247676 -1.514654  ...    0.247998  0.771679  0.909412 -0.689281   \n",
       "3  0.377436 -1.387024  ...   -0.108300  0.005274 -0.190321 -1.175575   \n",
       "4 -0.270533  0.817739  ...   -0.009431  0.798278 -0.137458  0.141267   \n",
       "\n",
       "        V25       V26       V27       V28  Amount  Class  \n",
       "0  0.128539 -0.189115  0.133558 -0.021053  149.62      0  \n",
       "1  0.167170  0.125895 -0.008983  0.014724    2.69      0  \n",
       "2 -0.327642 -0.139097 -0.055353 -0.059752  378.66      0  \n",
       "3  0.647376 -0.221929  0.062723  0.061458  123.50      0  \n",
       "4 -0.206010  0.502292  0.219422  0.215153   69.99      0  \n",
       "\n",
       "[5 rows x 31 columns]"
      ]
     },
     "execution_count": 2,
     "metadata": {},
     "output_type": "execute_result"
    }
   ],
   "source": [
    "creditcard_data=pd.read_csv(r'/Users/jacquelin/Documents/python/MachineLearning-imooc-master/机器学习项目实战/逻辑回归-信用卡欺诈检测/逻辑回归-信用卡欺诈检测/creditcard.csv')\n",
    "data=creditcard_data.copy()\n",
    "data.head()"
   ]
  },
  {
   "cell_type": "code",
   "execution_count": 12,
   "metadata": {},
   "outputs": [
    {
     "data": {
      "text/plain": [
       "0    284315\n",
       "1       492\n",
       "Name: Class, dtype: int64"
      ]
     },
     "execution_count": 12,
     "metadata": {},
     "output_type": "execute_result"
    },
    {
     "data": {
      "image/png": "[encoded data removed]",
      "text/plain": [
       "<Figure size 432x288 with 1 Axes>"
      ]
     },
     "metadata": {},
     "output_type": "display_data"
    }
   ],
   "source": [
    "count_classes=pd.value_counts(data['Class'],sort=True).sort_index()\n",
    "count_classes.plot('bar')\n",
    "plt.title('Class Histogram')\n",
    "plt.xlabel('class')\n",
    "plt.ylabel('Frequency')\n",
    "count_classes"
   ]
  },
  {
   "cell_type": "code",
   "execution_count": 3,
   "metadata": {},
   "outputs": [
    {
     "data": {
      "text/html": [
       "<div>\n",
       "<style scoped>\n",
       "    .dataframe tbody tr th:only-of-type {\n",
       "        vertical-align: middle;\n",
       "    }\n",
       "\n",
       "    .dataframe tbody tr th {\n",
       "        vertical-align: top;\n",
       "    }\n",
       "\n",
       "    .dataframe thead th {\n",
       "        text-align: right;\n",
       "    }\n",
       "</style>\n",
       "<table border=\"1\" class=\"dataframe\">\n",
       "  <thead>\n",
       "    <tr style=\"text-align: right;\">\n",
       "      <th></th>\n",
       "      <th>V1</th>\n",
       "      <th>V2</th>\n",
       "      <th>V3</th>\n",
       "      <th>V4</th>\n",
       "      <th>V5</th>\n",
       "      <th>V6</th>\n",
       "      <th>V7</th>\n",
       "      <th>V8</th>\n",
       "      <th>V9</th>\n",
       "      <th>V10</th>\n",
       "      <th>...</th>\n",
       "      <th>V21</th>\n",
       "      <th>V22</th>\n",
       "      <th>V23</th>\n",
       "      <th>V24</th>\n",
       "      <th>V25</th>\n",
       "      <th>V26</th>\n",
       "      <th>V27</th>\n",
       "      <th>V28</th>\n",
       "      <th>Class</th>\n",
       "      <th>normalAmount</th>\n",
       "    </tr>\n",
       "  </thead>\n",
       "  <tbody>\n",
       "    <tr>\n",
       "      <th>0</th>\n",
       "      <td>-1.359807</td>\n",
       "      <td>-0.072781</td>\n",
       "      <td>2.536347</td>\n",
       "      <td>1.378155</td>\n",
       "      <td>-0.338321</td>\n",
       "      <td>0.462388</td>\n",
       "      <td>0.239599</td>\n",
       "      <td>0.098698</td>\n",
       "      <td>0.363787</td>\n",
       "      <td>0.090794</td>\n",
       "      <td>...</td>\n",
       "      <td>-0.018307</td>\n",
       "      <td>0.277838</td>\n",
       "      <td>-0.110474</td>\n",
       "      <td>0.066928</td>\n",
       "      <td>0.128539</td>\n",
       "      <td>-0.189115</td>\n",
       "      <td>0.133558</td>\n",
       "      <td>-0.021053</td>\n",
       "      <td>0</td>\n",
       "      <td>0.244964</td>\n",
       "    </tr>\n",
       "    <tr>\n",
       "      <th>1</th>\n",
       "      <td>1.191857</td>\n",
       "      <td>0.266151</td>\n",
       "      <td>0.166480</td>\n",
       "      <td>0.448154</td>\n",
       "      <td>0.060018</td>\n",
       "      <td>-0.082361</td>\n",
       "      <td>-0.078803</td>\n",
       "      <td>0.085102</td>\n",
       "      <td>-0.255425</td>\n",
       "      <td>-0.166974</td>\n",
       "      <td>...</td>\n",
       "      <td>-0.225775</td>\n",
       "      <td>-0.638672</td>\n",
       "      <td>0.101288</td>\n",
       "      <td>-0.339846</td>\n",
       "      <td>0.167170</td>\n",
       "      <td>0.125895</td>\n",
       "      <td>-0.008983</td>\n",
       "      <td>0.014724</td>\n",
       "      <td>0</td>\n",
       "      <td>-0.342475</td>\n",
       "    </tr>\n",
       "    <tr>\n",
       "      <th>2</th>\n",
       "      <td>-1.358354</td>\n",
       "      <td>-1.340163</td>\n",
       "      <td>1.773209</td>\n",
       "      <td>0.379780</td>\n",
       "      <td>-0.503198</td>\n",
       "      <td>1.800499</td>\n",
       "      <td>0.791461</td>\n",
       "      <td>0.247676</td>\n",
       "      <td>-1.514654</td>\n",
       "      <td>0.207643</td>\n",
       "      <td>...</td>\n",
       "      <td>0.247998</td>\n",
       "      <td>0.771679</td>\n",
       "      <td>0.909412</td>\n",
       "      <td>-0.689281</td>\n",
       "      <td>-0.327642</td>\n",
       "      <td>-0.139097</td>\n",
       "      <td>-0.055353</td>\n",
       "      <td>-0.059752</td>\n",
       "      <td>0</td>\n",
       "      <td>1.160686</td>\n",
       "    </tr>\n",
       "    <tr>\n",
       "      <th>3</th>\n",
       "      <td>-0.966272</td>\n",
       "      <td>-0.185226</td>\n",
       "      <td>1.792993</td>\n",
       "      <td>-0.863291</td>\n",
       "      <td>-0.010309</td>\n",
       "      <td>1.247203</td>\n",
       "      <td>0.237609</td>\n",
       "      <td>0.377436</td>\n",
       "      <td>-1.387024</td>\n",
       "      <td>-0.054952</td>\n",
       "      <td>...</td>\n",
       "      <td>-0.108300</td>\n",
       "      <td>0.005274</td>\n",
       "      <td>-0.190321</td>\n",
       "      <td>-1.175575</td>\n",
       "      <td>0.647376</td>\n",
       "      <td>-0.221929</td>\n",
       "      <td>0.062723</td>\n",
       "      <td>0.061458</td>\n",
       "      <td>0</td>\n",
       "      <td>0.140534</td>\n",
       "    </tr>\n",
       "    <tr>\n",
       "      <th>4</th>\n",
       "      <td>-1.158233</td>\n",
       "      <td>0.877737</td>\n",
       "      <td>1.548718</td>\n",
       "      <td>0.403034</td>\n",
       "      <td>-0.407193</td>\n",
       "      <td>0.095921</td>\n",
       "      <td>0.592941</td>\n",
       "      <td>-0.270533</td>\n",
       "      <td>0.817739</td>\n",
       "      <td>0.753074</td>\n",
       "      <td>...</td>\n",
       "      <td>-0.009431</td>\n",
       "      <td>0.798278</td>\n",
       "      <td>-0.137458</td>\n",
       "      <td>0.141267</td>\n",
       "      <td>-0.206010</td>\n",
       "      <td>0.502292</td>\n",
       "      <td>0.219422</td>\n",
       "      <td>0.215153</td>\n",
       "      <td>0</td>\n",
       "      <td>-0.073403</td>\n",
       "    </tr>\n",
       "  </tbody>\n",
       "</table>\n",
       "<p>5 rows × 30 columns</p>\n",
       "</div>"
      ],
      "text/plain": [
       "         V1        V2        V3        V4        V5        V6        V7  \\\n",
       "0 -1.359807 -0.072781  2.536347  1.378155 -0.338321  0.462388  0.239599   \n",
       "1  1.191857  0.266151  0.166480  0.448154  0.060018 -0.082361 -0.078803   \n",
       "2 -1.358354 -1.340163  1.773209  0.379780 -0.503198  1.800499  0.791461   \n",
       "3 -0.966272 -0.185226  1.792993 -0.863291 -0.010309  1.247203  0.237609   \n",
       "4 -1.158233  0.877737  1.548718  0.403034 -0.407193  0.095921  0.592941   \n",
       "\n",
       "         V8        V9       V10      ...            V21       V22       V23  \\\n",
       "0  0.098698  0.363787  0.090794      ...      -0.018307  0.277838 -0.110474   \n",
       "1  0.085102 -0.255425 -0.166974      ...      -0.225775 -0.638672  0.101288   \n",
       "2  0.247676 -1.514654  0.207643      ...       0.247998  0.771679  0.909412   \n",
       "3  0.377436 -1.387024 -0.054952      ...      -0.108300  0.005274 -0.190321   \n",
       "4 -0.270533  0.817739  0.753074      ...      -0.009431  0.798278 -0.137458   \n",
       "\n",
       "        V24       V25       V26       V27       V28  Class  normalAmount  \n",
       "0  0.066928  0.128539 -0.189115  0.133558 -0.021053      0      0.244964  \n",
       "1 -0.339846  0.167170  0.125895 -0.008983  0.014724      0     -0.342475  \n",
       "2 -0.689281 -0.327642 -0.139097 -0.055353 -0.059752      0      1.160686  \n",
       "3 -1.175575  0.647376 -0.221929  0.062723  0.061458      0      0.140534  \n",
       "4  0.141267 -0.206010  0.502292  0.219422  0.215153      0     -0.073403  \n",
       "\n",
       "[5 rows x 30 columns]"
      ]
     },
     "execution_count": 3,
     "metadata": {},
     "output_type": "execute_result"
    }
   ],
   "source": [
    "#数据归一化\n",
    "from sklearn.preprocessing import StandardScaler\n",
    "data['normalAmount']=StandardScaler().fit_transform(data['Amount'].values.reshape(-1, 1))\n",
    "data=data.drop(['Amount','Time'],axis=1)\n",
    "data.head()"
   ]
  },
  {
   "cell_type": "code",
   "execution_count": 4,
   "metadata": {},
   "outputs": [
    {
     "name": "stdout",
     "output_type": "stream",
     "text": [
      "normal percent 0.5\n",
      "total amount 984\n"
     ]
    }
   ],
   "source": [
    "#样本两个类别极其不均衡，降采样\n",
    "#欺诈样本提取\n",
    "fraud_count=len(data[data['Class']==1])\n",
    "fraud_index=np.array(data[data['Class']==1].index)\n",
    "#正常样本提取及降采\n",
    "normal_index=data[data['Class']==0].index\n",
    "random_normal_index=np.random.choice(normal_index,fraud_count,replace=False)\n",
    "random_normal_index=np.array(random_normal_index)\n",
    "#两部分样本纵向合并\n",
    "under_sample_index=np.concatenate([fraud_index,random_normal_index])\n",
    "#根据index提取数据\n",
    "under_sample_data=data.iloc[under_sample_index,:]\n",
    "X_undersample=under_sample_data.iloc[:,under_sample_data.columns!='Class']\n",
    "y_undersample=under_sample_data.iloc[:,under_sample_data.columns=='Class']\n",
    "print('normal percent',len(under_sample_data[under_sample_data['Class']==0])/len(under_sample_data))\n",
    "print('total amount',len(under_sample_data))"
   ]
  },
  {
   "cell_type": "markdown",
   "metadata": {},
   "source": [
    "# 降采样训练模型"
   ]
  },
  {
   "cell_type": "code",
   "execution_count": 50,
   "metadata": {},
   "outputs": [],
   "source": [
    "#分离训练集，准备交叉验证\n",
    "X=data.iloc[:,data.columns!='Class']\n",
    "y=data.iloc[:,data.columns=='Class']\n",
    "\n",
    "from sklearn.cross_validation import train_test_split\n",
    "X_train,X_test,y_train,y_test=train_test_split(X,y,test_size=0.3,random_state=0)\n",
    "\n",
    "X_train_undersample,X_test_undersample,y_train_undersample,y_test_undersample=train_test_split(X_undersample,\n",
    "                                                                                              y_undersample,\n",
    "                                                                                              test_size=0.3,\n",
    "                                                                                              random_state=0)\n"
   ]
  },
  {
   "cell_type": "code",
   "execution_count": 51,
   "metadata": {},
   "outputs": [],
   "source": [
    "#训练模型\n",
    "from sklearn.linear_model import LogisticRegression\n",
    "from sklearn.cross_validation import KFold,cross_val_score\n",
    "from sklearn.metrics import confusion_matrix,recall_score,classification_report\n",
    "\n",
    "def train_model(X_train_data,y_train_data):\n",
    "    fold=KFold(len(y_train_data),5,shuffle=False)     #将原训练集拆为5部分\n",
    "    c_param_range=[0.01,0.1,1,10,100]         #正则化时C参数，调节theta系数，避免过拟合行为\n",
    "    \n",
    "    result=pd.DataFrame(index=range(len(c_param_range),2),columns=['C_parameter','Mean_recall_score'])\n",
    "    result['C_parameter']=c_param_range      #要打印出的分析结果表格\n",
    "    \n",
    "    j=0\n",
    "    for c_param in c_param_range:\n",
    "        print('--------------------------------------------------')\n",
    "        print('c_parameter',c_param)\n",
    "        print('--------------------------------------------------')\n",
    "        recall_accs=[]     #召回率收集\n",
    "        for iteration,indices in enumerate(fold,start=1):\n",
    "            log_clf=LogisticRegression(C=c_param,penalty='l1')\n",
    "            log_clf.fit(X_train_data.iloc[indices[0],:],y_train_data.iloc[indices[0],:].values.ravel())\n",
    "            y_predict_undersample=log_clf.predict(X_train_data.iloc[indices[1],:].values)\n",
    "            \n",
    "            recall_acc=recall_score(y_train_data.iloc[indices[1],:].values,y_predict_undersample)\n",
    "            recall_accs.append(recall_acc)\n",
    "            print('Iteration',iteration,':recall_score=',recall_acc)\n",
    "            \n",
    "        result.ix[j,'Mean_recall_score']=np.mean(recall_accs)\n",
    "        j+=1\n",
    "\n",
    "        print('Mean_recall_score',np.mean(recall_accs))\n",
    "    \n",
    "    best_c=result.loc[result['Mean_recall_score'].astype('float64').idxmax()]['C_parameter']\n",
    "    #result[list(np.argsort(np.array(result['Mean_recall_score'])))[-1],:]\n",
    "    \n",
    "    print('')\n",
    "    print('best_c',best_c)\n",
    "    print('')\n",
    "    return best_c\n",
    "    "
   ]
  },
  {
   "cell_type": "code",
   "execution_count": 52,
   "metadata": {},
   "outputs": [
    {
     "name": "stdout",
     "output_type": "stream",
     "text": [
      "--------------------------------------------------\n",
      "c_parameter 0.01\n",
      "--------------------------------------------------\n",
      "Iteration 1 :recall_score= 0.958904109589041\n",
      "Iteration 2 :recall_score= 0.958904109589041\n",
      "Iteration 3 :recall_score= 1.0\n",
      "Iteration 4 :recall_score= 0.972972972972973\n",
      "Iteration 5 :recall_score= 0.9848484848484849\n",
      "Mean_recall_score 0.9751259353999078\n",
      "--------------------------------------------------\n",
      "c_parameter 0.1\n",
      "--------------------------------------------------\n",
      "Iteration 1 :recall_score= 0.8493150684931506\n",
      "Iteration 2 :recall_score= 0.863013698630137\n",
      "Iteration 3 :recall_score= 0.9491525423728814\n",
      "Iteration 4 :recall_score= 0.9459459459459459\n",
      "Iteration 5 :recall_score= 0.9090909090909091\n",
      "Mean_recall_score 0.9033036329066049\n",
      "--------------------------------------------------\n",
      "c_parameter 1\n",
      "--------------------------------------------------\n",
      "Iteration 1 :recall_score= 0.863013698630137\n",
      "Iteration 2 :recall_score= 0.8767123287671232\n",
      "Iteration 3 :recall_score= 0.9830508474576272\n",
      "Iteration 4 :recall_score= 0.9459459459459459\n",
      "Iteration 5 :recall_score= 0.9090909090909091\n",
      "Mean_recall_score 0.9155627459783485\n",
      "--------------------------------------------------\n",
      "c_parameter 10\n",
      "--------------------------------------------------\n",
      "Iteration 1 :recall_score= 0.8767123287671232\n",
      "Iteration 2 :recall_score= 0.8767123287671232\n",
      "Iteration 3 :recall_score= 0.9830508474576272\n",
      "Iteration 4 :recall_score= 0.9324324324324325\n",
      "Iteration 5 :recall_score= 0.9090909090909091\n",
      "Mean_recall_score 0.9155997693030431\n",
      "--------------------------------------------------\n",
      "c_parameter 100\n",
      "--------------------------------------------------\n"
     ]
    },
    {
     "name": "stderr",
     "output_type": "stream",
     "text": [
      "/Users/jacquelin/anaconda3/lib/python3.6/site-packages/ipykernel_launcher.py:28: DeprecationWarning: \n",
      ".ix is deprecated. Please use\n",
      ".loc for label based indexing or\n",
      ".iloc for positional indexing\n",
      "\n",
      "See the documentation here:\n",
      "http://pandas.pydata.org/pandas-docs/stable/indexing.html#ix-indexer-is-deprecated\n"
     ]
    },
    {
     "name": "stdout",
     "output_type": "stream",
     "text": [
      "Iteration 1 :recall_score= 0.863013698630137\n",
      "Iteration 2 :recall_score= 0.8767123287671232\n",
      "Iteration 3 :recall_score= 0.9830508474576272\n",
      "Iteration 4 :recall_score= 0.9459459459459459\n",
      "Iteration 5 :recall_score= 0.9090909090909091\n",
      "Mean_recall_score 0.9155627459783485\n",
      "\n",
      "best_c 0.01\n",
      "\n"
     ]
    }
   ],
   "source": [
    "best_c=train_model(X_train_undersample,y_train_undersample)"
   ]
  },
  {
   "cell_type": "code",
   "execution_count": 64,
   "metadata": {},
   "outputs": [],
   "source": [
    "#画混淆矩阵\n",
    "import itertools\n",
    "def confusion_matrix_plot(cm,\n",
    "                         classes,\n",
    "                         title='Confusion matrix',\n",
    "                         cmap=plt.cm.Blues):\n",
    "    plt.imshow(cm,interpolation='nearest',cmap=cmap)\n",
    "    plt.title(title)\n",
    "    plt.colorbar()\n",
    "    tick_marks = np.arange(len(classes))\n",
    "    plt.xticks(tick_marks, classes, rotation=0)\n",
    "    plt.yticks(tick_marks, classes)\n",
    "    \n",
    "    thresh=cm.max()/2.\n",
    "    for i,j in itertools.product(range(cm.shape[0]),range(cm.shape[1])):\n",
    "        plt.text(j,i,cm[i,j],            #这里一定要注意顺序，找了好大一会，哭泣~~\n",
    "                horizontalalignment='center',\n",
    "                color='white' if cm[i,j]>thresh else 'black')\n",
    "    plt.tight_layout()\n",
    "    plt.ylabel('True label')\n",
    "    plt.xlabel('Predict label')"
   ]
  },
  {
   "cell_type": "code",
   "execution_count": 65,
   "metadata": {},
   "outputs": [
    {
     "name": "stdout",
     "output_type": "stream",
     "text": [
      "recall: 0.9319727891156463\n"
     ]
    },
    {
     "data": {
      "image/png": "[encoded data removed]",
      "text/plain": [
       "<Figure size 432x288 with 2 Axes>"
      ]
     },
     "metadata": {},
     "output_type": "display_data"
    },
    {
     "data": {
      "text/plain": [
       "array([[136,  13],\n",
       "       [ 10, 137]])"
      ]
     },
     "execution_count": 65,
     "metadata": {},
     "output_type": "execute_result"
    }
   ],
   "source": [
    "#提取及计算\n",
    "#拟合模型\n",
    "log_clf2=LogisticRegression(C=best_c,penalty='l1')\n",
    "log_clf2.fit(X_train_undersample,y_train_undersample.values.ravel())\n",
    "y_predict_undersample=log_clf2.predict(X_test_undersample.values)\n",
    "#混淆矩阵数据\n",
    "\n",
    "cnf_matrix = confusion_matrix(y_test_undersample,y_predict_undersample)\n",
    "np.set_printoptions(precision=2)      #设置输出样式：精度为2\n",
    "\n",
    "#输出召回率\n",
    "print('recall:',cnf_matrix[1,1]/(cnf_matrix[1,0]+cnf_matrix[1,1]))\n",
    "#绘制混淆矩阵\n",
    "class_name=[0,1]\n",
    "plt.figure()\n",
    "confusion_matrix_plot(cnf_matrix,\n",
    "                     classes=class_name,\n",
    "                     title='Confusion matrix')\n",
    "plt.show()\n",
    "cnf_matrix"
   ]
  },
  {
   "cell_type": "code",
   "execution_count": 66,
   "metadata": {},
   "outputs": [
    {
     "name": "stdout",
     "output_type": "stream",
     "text": [
      "recall: 0.9319727891156463\n"
     ]
    },
    {
     "data": {
      "image/png": "[encoded data removed]",
      "text/plain": [
       "<Figure size 432x288 with 2 Axes>"
      ]
     },
     "metadata": {},
     "output_type": "display_data"
    }
   ],
   "source": [
    "#对整个样本数据的测试集进行预测\n",
    "y_predict=log_clf2.predict(X_test.values)\n",
    "cnf_matrix2=confusion_matrix(y_test,y_predict)\n",
    "np.set_printoptions(precision=2)\n",
    "print('recall:',cnf_matrix2[1,1]/(cnf_matrix2[1,0]+cnf_matrix2[1,1]))\n",
    "confusion_matrix_plot(cnf_matrix2,\n",
    "                     classes=class_name,\n",
    "                     title='Confusion matrix')\n",
    "plt.show()\n",
    "\n",
    "#会出现许多真实值为0的预测成了1，需要调参"
   ]
  },
  {
   "cell_type": "code",
   "execution_count": 67,
   "metadata": {},
   "outputs": [
    {
     "name": "stdout",
     "output_type": "stream",
     "text": [
      "recall: 1.0\n",
      "recall: 1.0\n",
      "recall: 1.0\n",
      "recall: 0.9931972789115646\n",
      "recall: 0.9319727891156463\n",
      "recall: 0.8843537414965986\n",
      "recall: 0.8435374149659864\n",
      "recall: 0.7346938775510204\n",
      "recall: 0.5782312925170068\n"
     ]
    },
    {
     "data": {
      "image/png": "[encoded data removed]",
      "text/plain": [
       "<Figure size 720x720 with 18 Axes>"
      ]
     },
     "metadata": {},
     "output_type": "display_data"
    }
   ],
   "source": [
    "#调阈值\n",
    "log_clf3 = LogisticRegression(C = 0.01, penalty = 'l1')\n",
    "log_clf3.fit(X_train_undersample,y_train_undersample.values.ravel())\n",
    "y_predict_undersample_proba=log_clf3.predict_proba(X_test_undersample.values)\n",
    "\n",
    "thresholds=[0.1,0.2,0.3,0.4,0.5,0.6,0.7,0.8,0.9]\n",
    "#绘制多个子图表示不同阈值带来的召回率影响\n",
    "plt.figure(figsize=(10,10))\n",
    "j=1\n",
    "for threshold in thresholds:\n",
    "    y_test_predict_high_recall=y_predict_undersample_proba[:,1]>threshold    #bool型\n",
    "    plt.subplot(3,3,j)   #画在第几个字图里\n",
    "    j+=1\n",
    "    cnf_matrix=confusion_matrix(y_test_undersample,y_test_predict_high_recall)\n",
    "    np.set_printoptions(precision=2)\n",
    "    print('recall:',cnf_matrix[1,1]/(cnf_matrix[1,0]+cnf_matrix[1,1]))\n",
    "    class_name=[0,1]\n",
    "    confusion_matrix_plot(cnf_matrix,\n",
    "                     classes=class_name,\n",
    "                     title='threshold>=%s'%threshold)\n",
    "\n",
    "#阈值太小，把大部分大于此阈值的数据归为异常，太严格了，阈值大一些，容易漏失一些原本就是异常的数据\n",
    "#阈值小，召回率会很高，基本上为异常的数据全预测为异常了，故而召回率高，阈值太大，原本为异常的数据预测成了正常\n",
    "#具体要用哪些参数视需求而定，误差率？召回率？精准率？"
   ]
  },
  {
   "cell_type": "markdown",
   "metadata": {},
   "source": [
    "# 升采样训练模型"
   ]
  },
  {
   "cell_type": "code",
   "execution_count": 76,
   "metadata": {},
   "outputs": [],
   "source": [
    "from imblearn.over_sampling import SMOTE\n",
    "from sklearn.model_selection import train_test_split"
   ]
  },
  {
   "cell_type": "code",
   "execution_count": 77,
   "metadata": {},
   "outputs": [],
   "source": [
    "\n",
    "\n",
    "columns=creditcard_data.columns\n",
    "# The labels are in the last column ('Class'). Simply remove it to obtain features columns\n",
    "features_columns=columns.delete(len(columns)-1)\n",
    "\n",
    "features=creditcard_data[features_columns]\n",
    "labels=creditcard_data['Class']"
   ]
  },
  {
   "cell_type": "code",
   "execution_count": 78,
   "metadata": {},
   "outputs": [],
   "source": [
    "features_train, features_test, labels_train, labels_test = train_test_split(features, \n",
    "                                                                            labels, \n",
    "                                                                            test_size=0.2, \n",
    "                                                                            random_state=0)"
   ]
  },
  {
   "cell_type": "code",
   "execution_count": 83,
   "metadata": {},
   "outputs": [
    {
     "data": {
      "text/plain": [
       "227454"
      ]
     },
     "execution_count": 83,
     "metadata": {},
     "output_type": "execute_result"
    }
   ],
   "source": [
    "oversample=SMOTE(random_state=0)\n",
    "os_feature,os_label=oversample.fit_sample(features_train,labels_train)\n",
    "len(os_label[os_label==1])\n",
    "#可以fit出来一般多的异常样本"
   ]
  },
  {
   "cell_type": "code",
   "execution_count": 84,
   "metadata": {},
   "outputs": [
    {
     "name": "stdout",
     "output_type": "stream",
     "text": [
      "--------------------------------------------------\n",
      "c_parameter 0.01\n",
      "--------------------------------------------------\n",
      "Iteration 1 :recall_score= 0.8903225806451613\n",
      "Iteration 2 :recall_score= 0.8947368421052632\n",
      "Iteration 3 :recall_score= 0.968861347792409\n",
      "Iteration 4 :recall_score= 0.9578043767380002\n",
      "Iteration 5 :recall_score= 0.958408898561238\n",
      "Mean_recall_score 0.9340268091684143\n",
      "--------------------------------------------------\n",
      "c_parameter 0.1\n",
      "--------------------------------------------------\n"
     ]
    },
    {
     "name": "stderr",
     "output_type": "stream",
     "text": [
      "/Users/jacquelin/anaconda3/lib/python3.6/site-packages/ipykernel_launcher.py:28: DeprecationWarning: \n",
      ".ix is deprecated. Please use\n",
      ".loc for label based indexing or\n",
      ".iloc for positional indexing\n",
      "\n",
      "See the documentation here:\n",
      "http://pandas.pydata.org/pandas-docs/stable/indexing.html#ix-indexer-is-deprecated\n"
     ]
    },
    {
     "name": "stdout",
     "output_type": "stream",
     "text": [
      "Iteration 1 :recall_score= 0.8903225806451613\n",
      "Iteration 2 :recall_score= 0.8947368421052632\n",
      "Iteration 3 :recall_score= 0.9703441407546752\n",
      "Iteration 4 :recall_score= 0.95989272485464\n",
      "Iteration 5 :recall_score= 0.9600246205251646\n",
      "Mean_recall_score 0.9350641817769809\n",
      "--------------------------------------------------\n",
      "c_parameter 1\n",
      "--------------------------------------------------\n",
      "Iteration 1 :recall_score= 0.8903225806451613\n",
      "Iteration 2 :recall_score= 0.8947368421052632\n",
      "Iteration 3 :recall_score= 0.9705433218988603\n",
      "Iteration 4 :recall_score= 0.9600905683604269\n",
      "Iteration 5 :recall_score= 0.9604862553720007\n",
      "Mean_recall_score 0.9352359136763424\n",
      "--------------------------------------------------\n",
      "c_parameter 10\n",
      "--------------------------------------------------\n",
      "Iteration 1 :recall_score= 0.8903225806451613\n",
      "Iteration 2 :recall_score= 0.8947368421052632\n",
      "Iteration 3 :recall_score= 0.9705433218988603\n",
      "Iteration 4 :recall_score= 0.9602774205603368\n",
      "Iteration 5 :recall_score= 0.9567162374561722\n",
      "Mean_recall_score 0.9345192805331587\n",
      "--------------------------------------------------\n",
      "c_parameter 100\n",
      "--------------------------------------------------\n",
      "Iteration 1 :recall_score= 0.8903225806451613\n",
      "Iteration 2 :recall_score= 0.8947368421052632\n",
      "Iteration 3 :recall_score= 0.9705433218988603\n",
      "Iteration 4 :recall_score= 0.9602994031720908\n",
      "Iteration 5 :recall_score= 0.95817808113782\n",
      "Mean_recall_score 0.9348160457918391\n",
      "\n",
      "best_c 1.0\n",
      "\n"
     ]
    }
   ],
   "source": [
    "os_feature = pd.DataFrame(os_feature)\n",
    "os_label= pd.DataFrame(os_label)\n",
    "best_c = train_model(os_feature,os_label)"
   ]
  },
  {
   "cell_type": "code",
   "execution_count": 87,
   "metadata": {},
   "outputs": [
    {
     "name": "stdout",
     "output_type": "stream",
     "text": [
      "Recall metric in the testing dataset:  0.9108910891089109\n"
     ]
    },
    {
     "data": {
      "image/png": "[encoded data removed]",
      "text/plain": [
       "<Figure size 432x288 with 2 Axes>"
      ]
     },
     "metadata": {},
     "output_type": "display_data"
    }
   ],
   "source": [
    "log_clf4= LogisticRegression(C = best_c, penalty = 'l1')\n",
    "log_clf4.fit(os_feature,os_label.values.ravel())\n",
    "y_pred = log_clf4.predict(features_test.values)\n",
    "\n",
    "# Compute confusion matrix\n",
    "cnf_matrix = confusion_matrix(labels_test,y_pred)\n",
    "np.set_printoptions(precision=2)\n",
    "\n",
    "print(\"Recall metric in the testing dataset: \", cnf_matrix[1,1]/(cnf_matrix[1,0]+cnf_matrix[1,1]))\n",
    "\n",
    "# Plot non-normalized confusion matrix\n",
    "class_names = [0,1]\n",
    "plt.figure()\n",
    "confusion_matrix_plot(cnf_matrix\n",
    "                      , classes=class_names\n",
    "                      , title='Confusion matrix')\n",
    "plt.show()\n",
    "#升采样用了所有的数据，误杀的小很多，根据需求衡定哪种训练方式好\n",
    "#升采样跑数据比较慢"
   ]
  },
  {
   "cell_type": "code",
   "execution_count": null,
   "metadata": {},
   "outputs": [],
   "source": []
  },
  {
   "cell_type": "code",
   "execution_count": null,
   "metadata": {},
   "outputs": [],
   "source": []
  }
 ],
 "metadata": {
  "kernelspec": {
   "display_name": "Python 3",
   "language": "python",
   "name": "python3"
  },
  "language_info": {
   "codemirror_mode": {
    "name": "ipython",
    "version": 3
   },
   "file_extension": ".py",
   "mimetype": "text/x-python",
   "name": "python",
   "nbconvert_exporter": "python",
   "pygments_lexer": "ipython3",
   "version": "3.6.5"
  }
 },
 "nbformat": 4,
 "nbformat_minor": 2
}
